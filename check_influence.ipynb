{
  "nbformat": 4,
  "nbformat_minor": 0,
  "metadata": {
    "colab": {
      "provenance": [],
      "gpuType": "T4"
    },
    "kernelspec": {
      "name": "python3",
      "display_name": "Python 3"
    },
    "language_info": {
      "name": "python"
    },
    "accelerator": "GPU"
  },
  "cells": [
    {
      "cell_type": "code",
      "source": [
        "! wget https://worksheets.codalab.org/rest/bundles/0x550cd344825049bdbb865b887381823c/contents/blob/dataset_dog-fish_train-900_test-300.npz"
      ],
      "metadata": {
        "colab": {
          "base_uri": "https://localhost:8080/"
        },
        "id": "f12poXZsqUIQ",
        "outputId": "7428de79-84d7-4669-93f7-6d6f5ec4ccf2"
      },
      "execution_count": 24,
      "outputs": [
        {
          "output_type": "stream",
          "name": "stdout",
          "text": [
            "--2023-12-15 05:23:59--  https://worksheets.codalab.org/rest/bundles/0x550cd344825049bdbb865b887381823c/contents/blob/dataset_dog-fish_train-900_test-300.npz\n",
            "Resolving worksheets.codalab.org (worksheets.codalab.org)... 20.232.203.197\n",
            "Connecting to worksheets.codalab.org (worksheets.codalab.org)|20.232.203.197|:443... connected.\n",
            "HTTP request sent, awaiting response... 200 OK\n",
            "Syntax error in Set-Cookie: codalab_session=\"\"; expires=Thu, 01 Jan 1970 00:00:00 GMT; Max-Age=-1; Path=/ at position 70.\n",
            "Length: unspecified [text/plain]\n",
            "Saving to: ‘dataset_dog-fish_train-900_test-300.npz’\n",
            "\n",
            "dataset_dog-fish_tr     [               <=>  ] 679.68M  12.8MB/s    in 56s     \n",
            "\n",
            "2023-12-15 05:24:56 (12.2 MB/s) - ‘dataset_dog-fish_train-900_test-300.npz’ saved [712701930]\n",
            "\n"
          ]
        }
      ]
    },
    {
      "cell_type": "code",
      "source": [
        "! mv dataset_dog-fish_train-900_test-300.npz torch-influence/examples"
      ],
      "metadata": {
        "id": "fo9rBWGgqb0T"
      },
      "execution_count": null,
      "outputs": []
    },
    {
      "cell_type": "code",
      "source": [
        "! cd torch-influence/ && python examples/analyze_dogfish.py"
      ],
      "metadata": {
        "id": "lBKPDNzWpX9M"
      },
      "execution_count": null,
      "outputs": []
    },
    {
      "cell_type": "code",
      "source": [
        "! wget https://github.com/mnielsen/neural-networks-and-deep-learning/blob/master/data/mnist.pkl.gz"
      ],
      "metadata": {
        "colab": {
          "base_uri": "https://localhost:8080/"
        },
        "id": "qLN1FmfBxpXN",
        "outputId": "3914e390-0be1-4f68-9c6a-1345fd4fd2c3"
      },
      "execution_count": 11,
      "outputs": [
        {
          "output_type": "stream",
          "name": "stdout",
          "text": [
            "--2023-12-15 05:18:24--  https://github.com/mnielsen/neural-networks-and-deep-learning/blob/master/data/mnist.pkl.gz\n",
            "Resolving github.com (github.com)... 20.205.243.166\n",
            "Connecting to github.com (github.com)|20.205.243.166|:443... connected.\n",
            "HTTP request sent, awaiting response... 200 OK\n",
            "Length: 4832 (4.7K) [text/plain]\n",
            "Saving to: ‘mnist.pkl.gz’\n",
            "\n",
            "mnist.pkl.gz        100%[===================>]   4.72K  --.-KB/s    in 0s      \n",
            "\n",
            "2023-12-15 05:18:25 (39.7 MB/s) - ‘mnist.pkl.gz’ saved [4832/4832]\n",
            "\n"
          ]
        }
      ]
    },
    {
      "cell_type": "code",
      "source": [
        "! pip install git+https://github.com/alstonlo/torch-influence.git"
      ],
      "metadata": {
        "colab": {
          "base_uri": "https://localhost:8080/"
        },
        "id": "2uh7cz-kynrG",
        "outputId": "4e919d4c-5fab-4312-c7e2-f0e1005539b4"
      },
      "execution_count": 5,
      "outputs": [
        {
          "output_type": "stream",
          "name": "stdout",
          "text": [
            "Collecting git+https://github.com/alstonlo/torch-influence.git\n",
            "  Cloning https://github.com/alstonlo/torch-influence.git to /tmp/pip-req-build-1qtt8qrv\n",
            "  Running command git clone --filter=blob:none --quiet https://github.com/alstonlo/torch-influence.git /tmp/pip-req-build-1qtt8qrv\n",
            "  Resolved https://github.com/alstonlo/torch-influence.git to commit 8b4f0756acf642a38a8b24a517da89343a9de7d0\n",
            "  Installing build dependencies ... \u001b[?25l\u001b[?25hdone\n",
            "  Getting requirements to build wheel ... \u001b[?25l\u001b[?25hdone\n",
            "  Preparing metadata (pyproject.toml) ... \u001b[?25l\u001b[?25hdone\n",
            "Requirement already satisfied: numpy>=1.8.4 in /usr/local/lib/python3.10/dist-packages (from torch-influence==0.1.0) (1.23.5)\n",
            "Requirement already satisfied: scipy>=1.3.3 in /usr/local/lib/python3.10/dist-packages (from torch-influence==0.1.0) (1.11.4)\n",
            "Requirement already satisfied: torch>=1.6.0 in /usr/local/lib/python3.10/dist-packages (from torch-influence==0.1.0) (2.1.0+cu121)\n",
            "Requirement already satisfied: filelock in /usr/local/lib/python3.10/dist-packages (from torch>=1.6.0->torch-influence==0.1.0) (3.13.1)\n",
            "Requirement already satisfied: typing-extensions in /usr/local/lib/python3.10/dist-packages (from torch>=1.6.0->torch-influence==0.1.0) (4.5.0)\n",
            "Requirement already satisfied: sympy in /usr/local/lib/python3.10/dist-packages (from torch>=1.6.0->torch-influence==0.1.0) (1.12)\n",
            "Requirement already satisfied: networkx in /usr/local/lib/python3.10/dist-packages (from torch>=1.6.0->torch-influence==0.1.0) (3.2.1)\n",
            "Requirement already satisfied: jinja2 in /usr/local/lib/python3.10/dist-packages (from torch>=1.6.0->torch-influence==0.1.0) (3.1.2)\n",
            "Requirement already satisfied: fsspec in /usr/local/lib/python3.10/dist-packages (from torch>=1.6.0->torch-influence==0.1.0) (2023.6.0)\n",
            "Requirement already satisfied: triton==2.1.0 in /usr/local/lib/python3.10/dist-packages (from torch>=1.6.0->torch-influence==0.1.0) (2.1.0)\n",
            "Requirement already satisfied: MarkupSafe>=2.0 in /usr/local/lib/python3.10/dist-packages (from jinja2->torch>=1.6.0->torch-influence==0.1.0) (2.1.3)\n",
            "Requirement already satisfied: mpmath>=0.19 in /usr/local/lib/python3.10/dist-packages (from sympy->torch>=1.6.0->torch-influence==0.1.0) (1.3.0)\n",
            "Building wheels for collected packages: torch-influence\n",
            "  Building wheel for torch-influence (pyproject.toml) ... \u001b[?25l\u001b[?25hdone\n",
            "  Created wheel for torch-influence: filename=torch_influence-0.1.0-py3-none-any.whl size=14681 sha256=587398dde750fc3ef95aa795b0066541bfdb3fc3b1956b0884d186e935ecaf4b\n",
            "  Stored in directory: /tmp/pip-ephem-wheel-cache-16v__8jf/wheels/48/dc/b3/0fd624ebc8e58bdc1648b0538d4db2c0a2f81fc8ee71db04b0\n",
            "Successfully built torch-influence\n",
            "Installing collected packages: torch-influence\n",
            "  Attempting uninstall: torch-influence\n",
            "    Found existing installation: torch-influence 0.1.0\n",
            "    Uninstalling torch-influence-0.1.0:\n",
            "      Successfully uninstalled torch-influence-0.1.0\n",
            "Successfully installed torch-influence-0.1.0\n"
          ]
        }
      ]
    },
    {
      "cell_type": "code",
      "source": [
        "import pathlib\n",
        "\n",
        "import matplotlib.pyplot as plt\n",
        "import matplotlib.transforms as mtrans\n",
        "import numpy as np\n",
        "import torch\n",
        "import torch.nn.functional as F\n",
        "import torchvision\n",
        "from sklearn import linear_model\n",
        "from torch import nn\n",
        "from torch.utils import data\n",
        "from tqdm import tqdm, trange\n",
        "\n",
        "from torch_influence import BaseObjective, CGInfluenceModule\n",
        "\n",
        "\n",
        "# Example-specific constants\n",
        "BASE_DIR = '.'\n",
        "DEVICE = torch.device(\"cuda\" if torch.cuda.is_available() else \"cpu\")\n",
        "\n",
        "DOGFISH_RAW_PATH = BASE_DIR + \"/dataset_dog-fish_train-900_test-300.npz\"\n",
        "DOGFISH_EMB_PATH = BASE_DIR + \"/dataset_dog-fish_embeds.npz\"\n",
        "\n",
        "DOGFISH_RAW_MMAP = np.load(str(DOGFISH_RAW_PATH), mmap_mode=\"r\")\n",
        "\n",
        "L2_WEIGHT = 1e-4\n",
        "\n",
        "\n",
        "def load_dogfish_examples(split, idxs):\n",
        "    image = DOGFISH_RAW_MMAP[f\"X_{split}\"][idxs]\n",
        "    label = DOGFISH_RAW_MMAP[f\"Y_{split}\"][idxs]\n",
        "    return image, label\n",
        "\n",
        "\n",
        "def load_inception_embeds():\n",
        "    if os.path.exists(DOGFISH_EMB_PATH):\n",
        "        print(f\"Using cached Inceptionv3 embeddings: {DOGFISH_EMB_PATH}\")\n",
        "        return np.load(str(DOGFISH_EMB_PATH))\n",
        "\n",
        "    # load pretrained Inceptionv3\n",
        "    model = torchvision.models.inception_v3(pretrained=True, transform_input=False)\n",
        "    model.fc = nn.Identity()  # remove the last layer\n",
        "    model.eval()\n",
        "    model = model.to(DEVICE)\n",
        "\n",
        "    embeds = {}\n",
        "\n",
        "    for split in (\"train\", \"test\"):\n",
        "        n = 2 * (900 if (split == \"train\") else 300)\n",
        "\n",
        "        X, Y = [], []\n",
        "        for idx in trange(0, n, 20, desc=f\"Embedding Dogfish ({split})\"):\n",
        "            batch_idxs = [idx + offset for offset in range(20)]\n",
        "            images, labels = load_dogfish_examples(split, batch_idxs)\n",
        "\n",
        "            # getting Inceptionv3 embedding\n",
        "            with torch.no_grad():\n",
        "                images = torch.tensor(images, dtype=torch.float32, device=DEVICE)\n",
        "                images = images.permute([0, 3, 1, 2])\n",
        "                h = model(images).cpu().numpy()\n",
        "\n",
        "            X.append(h)\n",
        "            Y.append(labels)\n",
        "\n",
        "        embeds[f\"X_{split}\"] = np.concatenate(X, axis=0).astype(np.float32)\n",
        "        embeds[f\"Y_{split}\"] = np.concatenate(Y, axis=0).astype(np.float32)\n",
        "\n",
        "    np.savez(str(DOGFISH_EMB_PATH), **embeds)\n",
        "    return embeds\n",
        "\n",
        "\n",
        "def fit_model(X, Y):\n",
        "    C = 1 / (X.shape[0] * L2_WEIGHT)\n",
        "    sk_clf = linear_model.LogisticRegression(C=C, tol=1e-8, max_iter=1000)\n",
        "    sk_clf = sk_clf.fit(X.numpy(), Y.numpy())\n",
        "\n",
        "    # recreate model in PyTorch\n",
        "    fc = nn.Linear(2048, 1, bias=True)\n",
        "    fc.weight = nn.Parameter(torch.tensor(sk_clf.coef_))\n",
        "    fc.bias = nn.Parameter(torch.tensor(sk_clf.intercept_))\n",
        "\n",
        "    pt_clf = nn.Sequential(\n",
        "        fc,\n",
        "        nn.Flatten(start_dim=-2),\n",
        "        nn.Sigmoid()\n",
        "    )\n",
        "\n",
        "    pt_clf = pt_clf.to(device=DEVICE, dtype=torch.float32)\n",
        "    return pt_clf\n",
        "\n",
        "\n",
        "def captioned_image(model, embeds, split, idx, scores):\n",
        "    x = embeds[f\"X_{split}\"][idx]\n",
        "    y = embeds[f\"Y_{split}\"][idx].item()\n",
        "\n",
        "    x = torch.tensor(x, device=DEVICE).unsqueeze(0)\n",
        "    y_hat = model(x).round().item()\n",
        "\n",
        "    # turn image into [0 .. 255] RGB image\n",
        "    image, _ = load_dogfish_examples(split, idx)\n",
        "    image = (image * 127.5) + 127.5\n",
        "    image = image.clip(min=0.0, max=255.0)\n",
        "    image = np.round(image).astype(np.uint8)\n",
        "\n",
        "    # turn labels into human-readable strings\n",
        "    class_names = [\"dog\", \"fish\"]\n",
        "    label = class_names[int(y)]\n",
        "    pred = class_names[int(y_hat)]\n",
        "\n",
        "    if split == \"test\":\n",
        "        score_caption = f\"Test Loss: {scores[idx]:.5f}\"\n",
        "    else:\n",
        "        score_caption = f\"Influence: {scores[idx]:+.5f}\"\n",
        "    label_caption = f\"Pred: {pred}, Label: {label}\"\n",
        "    return image, label_caption + \"\\n\" + score_caption\n",
        "\n",
        "\n",
        "print(f\"Using {DEVICE}\")\n",
        "\n",
        "# ===========\n",
        "# Load model and data\n",
        "# ==========\n",
        "\n",
        "embeds = load_inception_embeds()\n",
        "\n",
        "X_train = torch.tensor(embeds[\"X_train\"])\n",
        "Y_train = torch.tensor(embeds[\"Y_train\"])\n",
        "train_set = data.TensorDataset(X_train, Y_train)\n",
        "\n",
        "X_test = torch.tensor(embeds[\"X_test\"])\n",
        "Y_test = torch.tensor(embeds[\"Y_test\"])\n",
        "test_set = data.TensorDataset(X_test, Y_test)\n",
        "\n",
        "clf = fit_model(X_train, Y_train)\n",
        "\n",
        "# ===========\n",
        "# Get indices of top 5 test images with highest test loss\n",
        "# ===========\n",
        "\n",
        "test_losses = F.binary_cross_entropy(clf(X_test.to(DEVICE)), Y_test.to(DEVICE), reduction=\"none\")\n",
        "test_idxs = torch.argsort(test_losses, dim=0, descending=True)[:5]\n",
        "test_idxs = test_idxs.tolist()\n",
        "\n",
        "test_images = [captioned_image(clf, embeds, \"test\", idx, test_losses) for idx in test_idxs]\n",
        "\n",
        "# ===========\n",
        "# Initialize influence module using custom objective\n",
        "# ===========\n",
        "\n",
        "class BinClassObjective(BaseObjective):\n",
        "\n",
        "    def train_outputs(self, model, batch):\n",
        "        return model(batch[0])\n",
        "\n",
        "    def train_loss_on_outputs(self, outputs, batch):\n",
        "        return F.binary_cross_entropy(outputs, batch[1])\n",
        "\n",
        "    def train_regularization(self, params):\n",
        "        return L2_WEIGHT * torch.square(params.norm())\n",
        "\n",
        "    def test_loss(self, model, params, batch):\n",
        "        outputs = model(batch[0])\n",
        "        return F.binary_cross_entropy(outputs, batch[1])\n",
        "\n",
        "module = CGInfluenceModule(\n",
        "    model=clf,\n",
        "    objective=BinClassObjective(),\n",
        "    train_loader=data.DataLoader(train_set, batch_size=32),\n",
        "    test_loader=data.DataLoader(test_set, batch_size=32),\n",
        "    device=DEVICE,\n",
        "    damp=0.001,\n",
        "    atol=1e-8,\n",
        "    maxiter=1000,\n",
        ")\n",
        "\n",
        "# ===========\n",
        "# For each test point:\n",
        "#   1. Get the influence scores for all training points\n",
        "#   2. Find the most helpful and harmful training points\n",
        "# The most helpful point is that which, if removed, most increases the loss at the\n",
        "# test point of interest (as predicted by the influence scores). Conversely, the most harmful\n",
        "# test point is that which most decreases the test loss if removed.\n",
        "# ===========\n",
        "\n",
        "helpful_images = []\n",
        "harmful_images = []\n",
        "\n",
        "all_train_idxs = list(range(X_train.shape[0]))\n",
        "for test_idx in tqdm(test_idxs, desc=\"Computing Influences\"):\n",
        "    # In practice, this can be further optimized since we are recomputing the\n",
        "    # loss gradients over the entire training dataset. With enough space, these\n",
        "    # gradients can be cached instead.\n",
        "    influences = module.influences(train_idxs=all_train_idxs, test_idxs=[test_idx])\n",
        "\n",
        "    helpful = captioned_image(clf, embeds, \"train\", influences.argmax(), influences)\n",
        "    harmful = captioned_image(clf, embeds, \"train\", influences.argmin(), influences)\n",
        "\n",
        "    helpful_images.append(helpful)\n",
        "    harmful_images.append(harmful)\n",
        "\n",
        "image_grid = [test_images, helpful_images, harmful_images]\n",
        "\n",
        "# ===========\n",
        "# Plot image grid\n",
        "# ==========\n",
        "\n",
        "fig, axes = plt.subplots(nrows=3, ncols=len(image_grid[0]), sharex=True, sharey=True, figsize=(15, 8))\n",
        "plt.subplots_adjust(wspace=0.5, hspace=0.75)\n",
        "\n",
        "# plot images\n",
        "for row in zip(image_grid, axes):\n",
        "    for ((image, caption), ax) in zip(*row):\n",
        "        ax.set_title(caption, size=\"medium\")\n",
        "        ax.set(aspect=\"equal\")\n",
        "        ax.imshow(image)\n",
        "        ax.set_xticks([])\n",
        "        ax.set_yticks([])\n",
        "\n",
        "fig.tight_layout()\n",
        "\n",
        "# draw separating lines\n",
        "# Reference: https://stackoverflow.com/questions/26084231/draw-a-separator-or-lines-between-subplots\n",
        "def get_bbox(ax_):\n",
        "    r = fig.canvas.get_renderer()\n",
        "    return ax_.get_tightbbox(r).transformed(fig.transFigure.inverted())\n",
        "\n",
        "bboxes = np.array(list(map(get_bbox, axes.flat)), mtrans.Bbox).reshape(axes.shape)\n",
        "xmax = np.array(list(map(lambda b: b.x1, bboxes.flat))).reshape(axes.shape).max(axis=0)\n",
        "xmin = np.array(list(map(lambda b: b.x0, bboxes.flat))).reshape(axes.shape).min(axis=0)\n",
        "xs = np.c_[xmax[1:], xmin[:-1]].mean(axis=1)\n",
        "\n",
        "for x in xs:\n",
        "    line = plt.Line2D([x, x], [0.03, 0.97], transform=fig.transFigure, color=\"black\", linewidth=1.2)\n",
        "    fig.add_artist(line)\n",
        "\n",
        "# write row labels\n",
        "row_labels = [\"Test Image\", \"Most Helpful\", \"Most Harmful\"]\n",
        "for ax, label in zip(axes[:, 0], row_labels):\n",
        "    ax.set_ylabel(label, rotation=90, size=\"x-large\", fontweight=\"bold\")\n",
        "\n",
        "fig.savefig(\"dogfish_influences.png\", dpi=300)"
      ],
      "metadata": {
        "colab": {
          "base_uri": "https://localhost:8080/"
        },
        "id": "wpmpAqF6xY0v",
        "outputId": "c4202dfc-1977-477b-b389-a4b7694170b6"
      },
      "execution_count": 30,
      "outputs": [
        {
          "metadata": {
            "tags": null
          },
          "name": "stdout",
          "output_type": "stream",
          "text": [
            "Using cuda\n"
          ]
        },
        {
          "output_type": "stream",
          "name": "stderr",
          "text": [
            "/usr/local/lib/python3.10/dist-packages/torchvision/models/_utils.py:208: UserWarning: The parameter 'pretrained' is deprecated since 0.13 and may be removed in the future, please use 'weights' instead.\n",
            "  warnings.warn(\n",
            "/usr/local/lib/python3.10/dist-packages/torchvision/models/_utils.py:223: UserWarning: Arguments other than a weight enum or `None` for 'weights' are deprecated since 0.13 and may be removed in the future. The current behavior is equivalent to passing `weights=Inception_V3_Weights.IMAGENET1K_V1`. You can also use `weights=Inception_V3_Weights.DEFAULT` to get the most up-to-date weights.\n",
            "  warnings.warn(msg)\n",
            "Downloading: \"https://download.pytorch.org/models/inception_v3_google-0cc3c7bd.pth\" to /root/.cache/torch/hub/checkpoints/inception_v3_google-0cc3c7bd.pth\n",
            "100%|██████████| 104M/104M [00:05<00:00, 20.8MB/s]\n",
            "Embedding Dogfish (train): 100%|██████████| 90/90 [18:53<00:00, 12.60s/it]\n",
            "Embedding Dogfish (test): 100%|██████████| 30/30 [02:07<00:00,  4.23s/it]\n"
          ]
        }
      ]
    },
    {
      "cell_type": "code",
      "source": [
        "influences = module.influences(train_idxs=all_train_idxs, test_idxs=[0])\n",
        "plt.plot(influences.numpy())"
      ],
      "metadata": {
        "colab": {
          "base_uri": "https://localhost:8080/",
          "height": 463
        },
        "id": "ILDnZ4aj9VkU",
        "outputId": "19e446df-87bb-4fb6-bae1-95880b1adb47"
      },
      "execution_count": 36,
      "outputs": [
        {
          "output_type": "execute_result",
          "data": {
            "text/plain": [
              "[<matplotlib.lines.Line2D at 0x7b5613d8bcd0>]"
            ]
          },
          "metadata": {},
          "execution_count": 36
        },
        {
          "output_type": "display_data",
          "data": {
            "text/plain": [
              "<Figure size 640x480 with 1 Axes>"
            ],
            "image/png": "[encoded data removed]"
          },
          "metadata": {}
        }
      ]
    },
    {
      "cell_type": "code",
      "source": [
        "plt.hist(np.absolute(influences), log=True, bins=30)"
      ],
      "metadata": {
        "colab": {
          "base_uri": "https://localhost:8080/",
          "height": 698
        },
        "id": "hs1IvqyDCvve",
        "outputId": "a732f46c-f0d3-4e2c-bf2d-ef02e55e0ac1"
      },
      "execution_count": 51,
      "outputs": [
        {
          "output_type": "execute_result",
          "data": {
            "text/plain": [
              "(array([1.639e+03, 8.100e+01, 3.300e+01, 1.600e+01, 1.000e+01, 7.000e+00,\n",
              "        5.000e+00, 4.000e+00, 0.000e+00, 0.000e+00, 0.000e+00, 1.000e+00,\n",
              "        0.000e+00, 0.000e+00, 0.000e+00, 0.000e+00, 0.000e+00, 1.000e+00,\n",
              "        0.000e+00, 0.000e+00, 0.000e+00, 0.000e+00, 0.000e+00, 1.000e+00,\n",
              "        0.000e+00, 0.000e+00, 0.000e+00, 0.000e+00, 1.000e+00, 1.000e+00]),\n",
              " array([6.54255122e-12, 8.46391330e-08, 1.69271729e-07, 2.53904318e-07,\n",
              "        3.38536921e-07, 4.23169496e-07, 5.07802099e-07, 5.92434674e-07,\n",
              "        6.77067248e-07, 7.61699880e-07, 8.46332455e-07, 9.30965030e-07,\n",
              "        1.01559760e-06, 1.10023018e-06, 1.18486287e-06, 1.26949544e-06,\n",
              "        1.35412802e-06, 1.43876059e-06, 1.52339317e-06, 1.60802574e-06,\n",
              "        1.69265843e-06, 1.77729100e-06, 1.86192358e-06, 1.94655604e-06,\n",
              "        2.03118884e-06, 2.11582142e-06, 2.20045399e-06, 2.28508657e-06,\n",
              "        2.36971914e-06, 2.45435172e-06, 2.53898429e-06]),\n",
              " <BarContainer object of 30 artists>)"
            ]
          },
          "metadata": {},
          "execution_count": 51
        },
        {
          "output_type": "display_data",
          "data": {
            "text/plain": [
              "<Figure size 640x480 with 1 Axes>"
            ],
            "image/png": "[encoded data removed]"
          },
          "metadata": {}
        }
      ]
    }
  ]
}