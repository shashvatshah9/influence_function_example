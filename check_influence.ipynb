{
  "nbformat": 4,
  "nbformat_minor": 0,
  "metadata": {
    "colab": {
      "provenance": [],
      "gpuType": "V100"
    },
    "kernelspec": {
      "name": "python3",
      "display_name": "Python 3"
    },
    "language_info": {
      "name": "python"
    },
    "accelerator": "GPU"
  },
  "cells": [
    {
      "cell_type": "code",
      "source": [
        "! wget https://worksheets.codalab.org/rest/bundles/0x550cd344825049bdbb865b887381823c/contents/blob/dataset_dog-fish_train-900_test-300.npz"
      ],
      "metadata": {
        "colab": {
          "base_uri": "https://localhost:8080/"
        },
        "id": "f12poXZsqUIQ",
        "outputId": "6bc354c9-d205-47ec-c1a6-c3ba83bf496b"
      },
      "execution_count": 2,
      "outputs": [
        {
          "output_type": "stream",
          "name": "stdout",
          "text": [
            "--2023-12-15 15:41:54--  https://worksheets.codalab.org/rest/bundles/0x550cd344825049bdbb865b887381823c/contents/blob/dataset_dog-fish_train-900_test-300.npz\n",
            "Resolving worksheets.codalab.org (worksheets.codalab.org)... 20.232.203.197\n",
            "Connecting to worksheets.codalab.org (worksheets.codalab.org)|20.232.203.197|:443... connected.\n",
            "HTTP request sent, awaiting response... 200 OK\n",
            "Syntax error in Set-Cookie: codalab_session=\"\"; expires=Thu, 01 Jan 1970 00:00:00 GMT; Max-Age=-1; Path=/ at position 70.\n",
            "Length: unspecified [text/plain]\n",
            "Saving to: ‘dataset_dog-fish_train-900_test-300.npz’\n",
            "\n",
            "dataset_dog-fish_tr     [              <=>   ] 679.68M  13.9MB/s    in 52s     \n",
            "\n",
            "2023-12-15 15:42:47 (13.2 MB/s) - ‘dataset_dog-fish_train-900_test-300.npz’ saved [712701930]\n",
            "\n"
          ]
        }
      ]
    },
    {
      "cell_type": "code",
      "source": [
        "! pip install git+https://github.com/alstonlo/torch-influence.git"
      ],
      "metadata": {
        "colab": {
          "base_uri": "https://localhost:8080/"
        },
        "id": "2uh7cz-kynrG",
        "outputId": "14b939da-dc6a-4a7b-86e4-eb0b22f4d2e2"
      },
      "execution_count": 3,
      "outputs": [
        {
          "output_type": "stream",
          "name": "stdout",
          "text": [
            "Collecting git+https://github.com/alstonlo/torch-influence.git\n",
            "  Cloning https://github.com/alstonlo/torch-influence.git to /tmp/pip-req-build-jmnxcotd\n",
            "  Running command git clone --filter=blob:none --quiet https://github.com/alstonlo/torch-influence.git /tmp/pip-req-build-jmnxcotd\n",
            "  Resolved https://github.com/alstonlo/torch-influence.git to commit 8b4f0756acf642a38a8b24a517da89343a9de7d0\n",
            "  Installing build dependencies ... \u001b[?25l\u001b[?25hdone\n",
            "  Getting requirements to build wheel ... \u001b[?25l\u001b[?25hdone\n",
            "  Preparing metadata (pyproject.toml) ... \u001b[?25l\u001b[?25hdone\n",
            "Requirement already satisfied: numpy>=1.8.4 in /usr/local/lib/python3.10/dist-packages (from torch-influence==0.1.0) (1.23.5)\n",
            "Requirement already satisfied: scipy>=1.3.3 in /usr/local/lib/python3.10/dist-packages (from torch-influence==0.1.0) (1.11.4)\n",
            "Requirement already satisfied: torch>=1.6.0 in /usr/local/lib/python3.10/dist-packages (from torch-influence==0.1.0) (2.1.0+cu121)\n",
            "Requirement already satisfied: filelock in /usr/local/lib/python3.10/dist-packages (from torch>=1.6.0->torch-influence==0.1.0) (3.13.1)\n",
            "Requirement already satisfied: typing-extensions in /usr/local/lib/python3.10/dist-packages (from torch>=1.6.0->torch-influence==0.1.0) (4.5.0)\n",
            "Requirement already satisfied: sympy in /usr/local/lib/python3.10/dist-packages (from torch>=1.6.0->torch-influence==0.1.0) (1.12)\n",
            "Requirement already satisfied: networkx in /usr/local/lib/python3.10/dist-packages (from torch>=1.6.0->torch-influence==0.1.0) (3.2.1)\n",
            "Requirement already satisfied: jinja2 in /usr/local/lib/python3.10/dist-packages (from torch>=1.6.0->torch-influence==0.1.0) (3.1.2)\n",
            "Requirement already satisfied: fsspec in /usr/local/lib/python3.10/dist-packages (from torch>=1.6.0->torch-influence==0.1.0) (2023.6.0)\n",
            "Requirement already satisfied: triton==2.1.0 in /usr/local/lib/python3.10/dist-packages (from torch>=1.6.0->torch-influence==0.1.0) (2.1.0)\n",
            "Requirement already satisfied: MarkupSafe>=2.0 in /usr/local/lib/python3.10/dist-packages (from jinja2->torch>=1.6.0->torch-influence==0.1.0) (2.1.3)\n",
            "Requirement already satisfied: mpmath>=0.19 in /usr/local/lib/python3.10/dist-packages (from sympy->torch>=1.6.0->torch-influence==0.1.0) (1.3.0)\n",
            "Building wheels for collected packages: torch-influence\n",
            "  Building wheel for torch-influence (pyproject.toml) ... \u001b[?25l\u001b[?25hdone\n",
            "  Created wheel for torch-influence: filename=torch_influence-0.1.0-py3-none-any.whl size=14681 sha256=48e88060e30d2a29c73d4aed9eb67c3d4c0d432dfb09635e92969658cec592c6\n",
            "  Stored in directory: /tmp/pip-ephem-wheel-cache-rn5r9bi0/wheels/48/dc/b3/0fd624ebc8e58bdc1648b0538d4db2c0a2f81fc8ee71db04b0\n",
            "Successfully built torch-influence\n",
            "Installing collected packages: torch-influence\n",
            "Successfully installed torch-influence-0.1.0\n"
          ]
        }
      ]
    },
    {
      "cell_type": "code",
      "source": [
        "import pathlib\n",
        "\n",
        "import matplotlib.pyplot as plt\n",
        "import matplotlib.transforms as mtrans\n",
        "import numpy as np\n",
        "import torch\n",
        "import torch.nn.functional as F\n",
        "import torchvision\n",
        "from sklearn import linear_model\n",
        "from torch import nn\n",
        "from torch.utils import data\n",
        "from tqdm import tqdm, trange\n",
        "import os\n",
        "from torch_influence import BaseObjective, CGInfluenceModule\n",
        "\n",
        "\n",
        "# Example-specific constants\n",
        "BASE_DIR = '.'\n",
        "DEVICE = torch.device(\"cuda\" if torch.cuda.is_available() else \"cpu\")\n",
        "\n",
        "DOGFISH_RAW_PATH = BASE_DIR + \"/dataset_dog-fish_train-900_test-300.npz\"\n",
        "DOGFISH_EMB_PATH = BASE_DIR + \"/dataset_dog-fish_embeds.npz\"\n",
        "\n",
        "DOGFISH_RAW_MMAP = np.load(str(DOGFISH_RAW_PATH), mmap_mode=\"r\")\n",
        "\n",
        "L2_WEIGHT = 1e-4\n",
        "\n",
        "\n",
        "def load_dogfish_examples(split, idxs):\n",
        "    image = DOGFISH_RAW_MMAP[f\"X_{split}\"][idxs]\n",
        "    label = DOGFISH_RAW_MMAP[f\"Y_{split}\"][idxs]\n",
        "    return image, label\n",
        "\n",
        "\n",
        "def load_inception_embeds():\n",
        "    if os.path.exists(DOGFISH_EMB_PATH):\n",
        "        print(f\"Using cached Inceptionv3 embeddings: {DOGFISH_EMB_PATH}\")\n",
        "        return np.load(str(DOGFISH_EMB_PATH))\n",
        "\n",
        "    # load pretrained Inceptionv3\n",
        "    model = torchvision.models.inception_v3(pretrained=True, transform_input=False)\n",
        "    model.fc = nn.Identity()  # remove the last layer\n",
        "    model.eval()\n",
        "    model = model.to(DEVICE)\n",
        "\n",
        "    embeds = {}\n",
        "    BATCH_SIZE = 60\n",
        "    for split in (\"train\", \"test\"):\n",
        "        n = 2 * (900 if (split == \"train\") else 300)\n",
        "\n",
        "        X, Y = [], []\n",
        "        for idx in trange(0, n, BATCH_SIZE, desc=f\"Embedding Dogfish ({split})\"):\n",
        "            batch_idxs = [idx + offset for offset in range(BATCH_SIZE)]\n",
        "            images, labels = load_dogfish_examples(split, batch_idxs)\n",
        "\n",
        "            # getting Inceptionv3 embedding\n",
        "            with torch.no_grad():\n",
        "                images = torch.tensor(images, dtype=torch.float32, device=DEVICE)\n",
        "                images = images.permute([0, 3, 1, 2])\n",
        "                h = model(images).cpu().numpy()\n",
        "\n",
        "            X.append(h)\n",
        "            Y.append(labels)\n",
        "\n",
        "        embeds[f\"X_{split}\"] = np.concatenate(X, axis=0).astype(np.float32)\n",
        "        embeds[f\"Y_{split}\"] = np.concatenate(Y, axis=0).astype(np.float32)\n",
        "\n",
        "    np.savez(str(DOGFISH_EMB_PATH), **embeds)\n",
        "    return embeds\n",
        "\n",
        "\n",
        "\n",
        "\n",
        "def captioned_image(model, embeds, split, idx, scores):\n",
        "    x = embeds[f\"X_{split}\"][idx]\n",
        "    y = embeds[f\"Y_{split}\"][idx].item()\n",
        "\n",
        "    x = torch.tensor(x, device=DEVICE).unsqueeze(0)\n",
        "    y_hat = model(x).round().item()\n",
        "\n",
        "    # turn image into [0 .. 255] RGB image\n",
        "    image, _ = load_dogfish_examples(split, idx)\n",
        "    image = (image * 127.5) + 127.5\n",
        "    image = image.clip(min=0.0, max=255.0)\n",
        "    image = np.round(image).astype(np.uint8)\n",
        "\n",
        "    # turn labels into human-readable strings\n",
        "    class_names = [\"dog\", \"fish\"]\n",
        "    label = class_names[int(y)]\n",
        "    pred = class_names[int(y_hat)]\n",
        "\n",
        "    if split == \"test\":\n",
        "        score_caption = f\"Test Loss: {scores[idx]:.5f}\"\n",
        "    else:\n",
        "        score_caption = f\"Influence: {scores[idx]:+.5f}\"\n",
        "    label_caption = f\"Pred: {pred}, Label: {label}\"\n",
        "    return image, label_caption + \"\\n\" + score_caption\n",
        "\n",
        "\n",
        "print(f\"Using {DEVICE}\")\n",
        "\n",
        "# ===========\n",
        "# Load model and data\n",
        "# ==========\n",
        "\n",
        "embeds = load_inception_embeds()\n",
        "\n",
        "X_train = torch.tensor(embeds[\"X_train\"])\n",
        "Y_train = torch.tensor(embeds[\"Y_train\"])\n",
        "train_set = data.TensorDataset(X_train, Y_train)\n",
        "\n",
        "X_test = torch.tensor(embeds[\"X_test\"])\n",
        "Y_test = torch.tensor(embeds[\"Y_test\"])\n",
        "test_set = data.TensorDataset(X_test, Y_test)\n",
        "\n"
      ],
      "metadata": {
        "colab": {
          "base_uri": "https://localhost:8080/"
        },
        "id": "QV16BrrpICIr",
        "outputId": "9fab07c2-f129-480c-e222-beab7c65d524"
      },
      "execution_count": 6,
      "outputs": [
        {
          "output_type": "stream",
          "name": "stdout",
          "text": [
            "Using cuda\n"
          ]
        },
        {
          "output_type": "stream",
          "name": "stderr",
          "text": [
            "/usr/local/lib/python3.10/dist-packages/torchvision/models/_utils.py:208: UserWarning: The parameter 'pretrained' is deprecated since 0.13 and may be removed in the future, please use 'weights' instead.\n",
            "  warnings.warn(\n",
            "/usr/local/lib/python3.10/dist-packages/torchvision/models/_utils.py:223: UserWarning: Arguments other than a weight enum or `None` for 'weights' are deprecated since 0.13 and may be removed in the future. The current behavior is equivalent to passing `weights=Inception_V3_Weights.IMAGENET1K_V1`. You can also use `weights=Inception_V3_Weights.DEFAULT` to get the most up-to-date weights.\n",
            "  warnings.warn(msg)\n",
            "Embedding Dogfish (train): 100%|██████████| 30/30 [06:12<00:00, 12.43s/it]\n",
            "Embedding Dogfish (test): 100%|██████████| 10/10 [00:43<00:00,  4.34s/it]\n"
          ]
        }
      ]
    },
    {
      "cell_type": "code",
      "source": [
        "def fit_model(X, Y):\n",
        "    C = 1 / (X.shape[0] * L2_WEIGHT)\n",
        "    sk_clf = linear_model.LogisticRegression(C=C, tol=1e-8, max_iter=1000)\n",
        "    sk_clf = sk_clf.fit(X.numpy(), Y.numpy())\n",
        "\n",
        "    # recreate model in PyTorch\n",
        "    fc = nn.Linear(2048, 1, bias=True)\n",
        "    print(sk_clf.coef_, sk_clf.intercept_)\n",
        "    fc.weight = nn.Parameter(torch.tensor(sk_clf.coef_))\n",
        "    fc.bias = nn.Parameter(torch.tensor(sk_clf.intercept_))\n",
        "\n",
        "    pt_clf = nn.Sequential(\n",
        "        fc,\n",
        "        nn.Flatten(start_dim=-2),\n",
        "        nn.Sigmoid()\n",
        "    )\n",
        "\n",
        "    pt_clf = pt_clf.to(device=DEVICE, dtype=torch.float32)\n",
        "    return pt_clf\n",
        "clf = fit_model(X_train, Y_train)"
      ],
      "metadata": {
        "colab": {
          "base_uri": "https://localhost:8080/"
        },
        "id": "DxuFPR-Zc1mB",
        "outputId": "f88b8b3c-e1a3-47be-ae06-e3d7f75b8cd7"
      },
      "execution_count": 7,
      "outputs": [
        {
          "output_type": "stream",
          "name": "stdout",
          "text": [
            "[[-0.05636463 -0.15297256  0.1011622  ... -0.01073345 -0.16798809\n",
            "  -0.03196982]] [-1.33386781]\n"
          ]
        }
      ]
    },
    {
      "cell_type": "markdown",
      "source": [
        "## Base model accuracy on the test set"
      ],
      "metadata": {
        "id": "b_T0Q1NjXy6W"
      }
    },
    {
      "cell_type": "code",
      "source": [
        "with torch.no_grad():\n",
        "    clf = clf.cuda()\n",
        "    outputs = clf(X_test.cuda())\n",
        "    predictions = torch.round(outputs).long()\n",
        "\n",
        "    # Calculate accuracy\n",
        "    correct = (predictions == Y_test.cuda()).sum().item()\n",
        "    total = len(Y_test)\n",
        "    accuracy = correct / total\n",
        "\n",
        "    # Print the accuracy\n",
        "    print(f\"Accuracy on test set: {accuracy:.4f}\")"
      ],
      "metadata": {
        "colab": {
          "base_uri": "https://localhost:8080/"
        },
        "id": "0sgOnpReJUOf",
        "outputId": "69aacd39-5bd7-4bd6-daa3-c933e6f5e611"
      },
      "execution_count": 8,
      "outputs": [
        {
          "output_type": "stream",
          "name": "stdout",
          "text": [
            "Accuracy on test set: 0.9867\n"
          ]
        }
      ]
    },
    {
      "cell_type": "markdown",
      "source": [
        "## Calculate the influences"
      ],
      "metadata": {
        "id": "nclstfLpX45J"
      }
    },
    {
      "cell_type": "code",
      "source": [
        "\n",
        "# ===========\n",
        "# Get indices of top 3% test images with highest test loss\n",
        "# ===========\n",
        "\n",
        "test_losses = F.binary_cross_entropy(clf(X_test.to(DEVICE)), Y_test.to(DEVICE), reduction=\"none\")\n",
        "test_idxs = torch.argsort(test_losses, dim=0, descending=True)[:int(len(X_train)*0.05)]\n",
        "test_idxs = test_idxs.tolist()\n",
        "\n",
        "test_images = [captioned_image(clf, embeds, \"test\", idx, test_losses) for idx in test_idxs]\n",
        "\n",
        "# ===========\n",
        "# Initialize influence module using custom objective\n",
        "# ===========\n",
        "\n",
        "class BinClassObjective(BaseObjective):\n",
        "\n",
        "    def train_outputs(self, model, batch):\n",
        "        return model(batch[0])\n",
        "\n",
        "    def train_loss_on_outputs(self, outputs, batch):\n",
        "        return F.binary_cross_entropy(outputs, batch[1])\n",
        "\n",
        "    def train_regularization(self, params):\n",
        "        return L2_WEIGHT * torch.square(params.norm())\n",
        "\n",
        "    def test_loss(self, model, params, batch):\n",
        "        outputs = model(batch[0])\n",
        "        return F.binary_cross_entropy(outputs, batch[1])\n",
        "\n",
        "module = CGInfluenceModule(\n",
        "    model=clf,\n",
        "    objective=BinClassObjective(),\n",
        "    train_loader=data.DataLoader(train_set, batch_size=32),\n",
        "    test_loader=data.DataLoader(test_set, batch_size=32),\n",
        "    device=DEVICE,\n",
        "    damp=0.001,\n",
        "    atol=1e-8,\n",
        "    maxiter=1000,\n",
        ")\n",
        "\n",
        "# ===========\n",
        "# For each test point:\n",
        "#   1. Get the influence scores for all training points\n",
        "#   2. Find the most helpful and harmful training points\n",
        "# The most helpful point is that which, if removed, most increases the loss at the\n",
        "# test point of interest (as predicted by the influence scores). Conversely, the most harmful\n",
        "# test point is that which most decreases the test loss if removed.\n",
        "# ===========\n",
        "\n",
        "helpful_images = []\n",
        "harmful_images = []\n",
        "helpful_images_idx = set()\n",
        "harmful_images_idx = set()\n",
        "\n",
        "all_train_idxs = list(range(X_train.shape[0]))\n",
        "for test_idx in tqdm(test_idxs, desc=\"Computing Influences\"):\n",
        "    # In practice, this can be further optimized since we are recomputing the\n",
        "    # loss gradients over the entire training dataset. With enough space, these\n",
        "    # gradients can be cached instead.\n",
        "    influences = module.influences(train_idxs=all_train_idxs, test_idxs=[test_idx])\n",
        "\n",
        "    helpful = captioned_image(clf, embeds, \"train\", influences.argmax(), influences)\n",
        "    harmful = captioned_image(clf, embeds, \"train\", influences.argmin(), influences)\n",
        "\n",
        "    helpful_images.append(helpful)\n",
        "    harmful_images.append(harmful)\n",
        "    helpful_images_idx.add(influences.argmax())\n",
        "    harmful_images_idx.add(influences.argmin())\n",
        "\n",
        "image_grid = [test_images, helpful_images, harmful_images]"
      ],
      "metadata": {
        "colab": {
          "base_uri": "https://localhost:8080/"
        },
        "id": "wpmpAqF6xY0v",
        "outputId": "8ff9809f-532e-4d01-8469-8d94831e78f3"
      },
      "execution_count": 10,
      "outputs": [
        {
          "output_type": "stream",
          "name": "stderr",
          "text": [
            "Computing Influences: 100%|██████████| 90/90 [46:35<00:00, 31.06s/it]\n"
          ]
        }
      ]
    },
    {
      "cell_type": "code",
      "source": [
        "influences = module.influences(train_idxs=all_train_idxs, test_idxs=[0])\n",
        "plt.plot(influences.numpy())"
      ],
      "metadata": {
        "colab": {
          "base_uri": "https://localhost:8080/",
          "height": 463
        },
        "id": "ILDnZ4aj9VkU",
        "outputId": "f5129808-a654-4c26-d7e8-79726280a964"
      },
      "execution_count": 11,
      "outputs": [
        {
          "output_type": "execute_result",
          "data": {
            "text/plain": [
              "[<matplotlib.lines.Line2D at 0x7fbe059901f0>]"
            ]
          },
          "metadata": {},
          "execution_count": 11
        },
        {
          "output_type": "display_data",
          "data": {
            "text/plain": [
              "<Figure size 640x480 with 1 Axes>"
            ],
            "image/png": "[encoded data removed]"
          },
          "metadata": {}
        }
      ]
    },
    {
      "cell_type": "code",
      "source": [
        "plt.hist(np.absolute(influences), log=True, bins=30)"
      ],
      "metadata": {
        "colab": {
          "base_uri": "https://localhost:8080/",
          "height": 698
        },
        "id": "hs1IvqyDCvve",
        "outputId": "76b27013-1620-4620-cf1b-79553b5dafb7"
      },
      "execution_count": 12,
      "outputs": [
        {
          "output_type": "execute_result",
          "data": {
            "text/plain": [
              "(array([1.639e+03, 8.100e+01, 3.300e+01, 1.600e+01, 1.000e+01, 7.000e+00,\n",
              "        5.000e+00, 4.000e+00, 0.000e+00, 0.000e+00, 0.000e+00, 1.000e+00,\n",
              "        0.000e+00, 0.000e+00, 0.000e+00, 0.000e+00, 0.000e+00, 1.000e+00,\n",
              "        0.000e+00, 0.000e+00, 0.000e+00, 0.000e+00, 0.000e+00, 1.000e+00,\n",
              "        0.000e+00, 0.000e+00, 0.000e+00, 0.000e+00, 1.000e+00, 1.000e+00]),\n",
              " array([4.83042729e-12, 8.46438653e-08, 1.69282913e-07, 2.53921939e-07,\n",
              "        3.38560994e-07, 4.23200021e-07, 5.07839047e-07, 5.92478102e-07,\n",
              "        6.77117157e-07, 7.61756155e-07, 8.46395210e-07, 9.31034265e-07,\n",
              "        1.01567332e-06, 1.10031237e-06, 1.18495132e-06, 1.26959037e-06,\n",
              "        1.35422943e-06, 1.43886848e-06, 1.52350754e-06, 1.60814659e-06,\n",
              "        1.69278553e-06, 1.77742459e-06, 1.86206364e-06, 1.94670270e-06,\n",
              "        2.03134164e-06, 2.11598081e-06, 2.20061975e-06, 2.28525892e-06,\n",
              "        2.36989786e-06, 2.45453703e-06, 2.53917597e-06]),\n",
              " <BarContainer object of 30 artists>)"
            ]
          },
          "metadata": {},
          "execution_count": 12
        },
        {
          "output_type": "display_data",
          "data": {
            "text/plain": [
              "<Figure size 640x480 with 1 Axes>"
            ],
            "image/png": "[encoded data removed]"
          },
          "metadata": {}
        }
      ]
    },
    {
      "cell_type": "code",
      "source": [
        "indexes = [int(idx.item()) for idx in list(helpful_images_idx)]\n",
        "indexes = list(set(indexes))\n",
        "indexes.sort()"
      ],
      "metadata": {
        "id": "rCQ9Psv2bDgp"
      },
      "execution_count": 46,
      "outputs": []
    },
    {
      "cell_type": "code",
      "source": [
        "# remove the most helpful images\n",
        "\n",
        "def calc_accuracy_drop():\n",
        "    accuracies = []\n",
        "    def remove_elements(tensor, indices):\n",
        "        keep_indices = [i for i in range(len(tensor)) if i not in indices]\n",
        "        mask = torch.ones(len(tensor), dtype=torch.bool, device=tensor.device)\n",
        "        mask[keep_indices] = False\n",
        "        return tensor[~mask]\n",
        "\n",
        "    for i in range(len(indexes)):\n",
        "        print(i)\n",
        "        X_update = remove_elements(X_train, indexes[:i+1])\n",
        "        Y_update = remove_elements(Y_train, indexes[:i+1])\n",
        "\n",
        "        clf_adv = fit_model(X_update, Y_update)\n",
        "        with torch.no_grad():\n",
        "            clf_adv = clf_adv.cuda()\n",
        "            outputs = clf_adv(X_test.cuda())\n",
        "            predictions = torch.round(outputs).long()\n",
        "\n",
        "            # Calculate accuracy\n",
        "            correct = (predictions == Y_test.cuda()).sum().item()\n",
        "            total = len(Y_test)\n",
        "            accuracy = correct / total\n",
        "            accuracies.append(accuracy)\n",
        "            # Print the accuracy\n",
        "            print(f\"Accuracy on test set: {accuracy:.4f}\")\n",
        "    return accuracies"
      ],
      "metadata": {
        "id": "VmExdhCYavp8"
      },
      "execution_count": 47,
      "outputs": []
    },
    {
      "cell_type": "code",
      "source": [
        "accuracies = calc_accuracy_drop()"
      ],
      "metadata": {
        "colab": {
          "base_uri": "https://localhost:8080/"
        },
        "id": "EOFDJea1hCW1",
        "outputId": "fa3d309a-8002-4ff5-ccde-644919994688"
      },
      "execution_count": 48,
      "outputs": [
        {
          "output_type": "stream",
          "name": "stdout",
          "text": [
            "0\n",
            "[[-0.05349406 -0.1620456   0.09579725 ...  0.00237253 -0.17007788\n",
            "  -0.03380949]] [-1.49776247]\n",
            "Accuracy on test set: 0.9833\n",
            "1\n",
            "[[-0.04634502 -0.16535938  0.08985571 ... -0.00959158 -0.17536652\n",
            "  -0.05875349]] [-1.5399917]\n",
            "Accuracy on test set: 0.9867\n",
            "2\n",
            "[[-0.0389193  -0.15922836  0.08355473 ... -0.00920633 -0.18505444\n",
            "  -0.04819816]] [-1.73119008]\n",
            "Accuracy on test set: 0.9850\n",
            "3\n",
            "[[-0.03904904 -0.16522691  0.09536044 ... -0.00903368 -0.18478567\n",
            "  -0.05053996]] [-2.07398031]\n",
            "Accuracy on test set: 0.9850\n",
            "4\n",
            "[[-0.03611074 -0.16292195  0.09335553 ... -0.00493544 -0.18293464\n",
            "  -0.05288397]] [-2.03566898]\n",
            "Accuracy on test set: 0.9850\n",
            "5\n",
            "[[-2.35898781e-02 -1.47360442e-01  9.57774411e-02 ... -8.08104625e-05\n",
            "  -1.81637409e-01 -1.06340026e-01]] [-2.22763636]\n",
            "Accuracy on test set: 0.9817\n",
            "6\n",
            "[[-0.0307519  -0.14859938  0.09340176 ... -0.00347043 -0.18375868\n",
            "  -0.10471084]] [-2.23065542]\n",
            "Accuracy on test set: 0.9817\n",
            "7\n",
            "[[-0.03152895 -0.14731106  0.09290778 ... -0.00169973 -0.18585323\n",
            "  -0.10947371]] [-2.27054474]\n",
            "Accuracy on test set: 0.9817\n",
            "8\n",
            "[[-0.03467986 -0.14146531  0.09410346 ...  0.00749443 -0.1839062\n",
            "  -0.10886362]] [-2.2406334]\n",
            "Accuracy on test set: 0.9817\n",
            "9\n",
            "[[-0.02373324 -0.1331873   0.09750145 ...  0.01439189 -0.1731193\n",
            "  -0.09216856]] [-2.53177049]\n",
            "Accuracy on test set: 0.9833\n",
            "10\n",
            "[[-0.01883594 -0.12935573  0.09540418 ...  0.01480701 -0.16573967\n",
            "  -0.09024487]] [-2.56151888]\n",
            "Accuracy on test set: 0.9850\n",
            "11\n",
            "[[-0.03697167 -0.12674147  0.09864988 ...  0.0231608  -0.15047153\n",
            "  -0.08252166]] [-2.53047111]\n",
            "Accuracy on test set: 0.9850\n",
            "12\n",
            "[[-0.03836634 -0.12796225  0.09810798 ...  0.02325091 -0.15065381\n",
            "  -0.08184744]] [-2.51554586]\n",
            "Accuracy on test set: 0.9833\n",
            "13\n",
            "[[-0.02514877 -0.12537242  0.10208618 ...  0.02808705 -0.14130267\n",
            "  -0.07185983]] [-2.62536131]\n",
            "Accuracy on test set: 0.9833\n",
            "14\n",
            "[[-0.02774424 -0.12790495  0.10048643 ...  0.02273119 -0.14313136\n",
            "  -0.07326211]] [-2.58600581]\n",
            "Accuracy on test set: 0.9817\n",
            "15\n",
            "[[-0.03030715 -0.12403272  0.10521273 ...  0.02412532 -0.14941643\n",
            "  -0.07158424]] [-2.59720395]\n",
            "Accuracy on test set: 0.9817\n",
            "16\n",
            "[[-0.03505317 -0.12826789  0.10243663 ...  0.02362818 -0.15620685\n",
            "  -0.08326908]] [-2.45793957]\n",
            "Accuracy on test set: 0.9833\n",
            "17\n",
            "[[-0.03073951 -0.14438455  0.10314294 ...  0.04323352 -0.15368336\n",
            "  -0.06877833]] [-2.42991181]\n",
            "Accuracy on test set: 0.9850\n",
            "18\n",
            "[[-0.0241986  -0.14595611  0.1054347  ...  0.04418201 -0.15967295\n",
            "  -0.07286221]] [-2.3863774]\n",
            "Accuracy on test set: 0.9850\n",
            "19\n",
            "[[-0.0159739  -0.14563255  0.11106392 ...  0.02827638 -0.19101845\n",
            "  -0.07696533]] [-2.20982134]\n",
            "Accuracy on test set: 0.9850\n",
            "20\n",
            "[[-0.02182406 -0.14280762  0.1076645  ...  0.03073152 -0.18914016\n",
            "  -0.08385737]] [-2.20822881]\n",
            "Accuracy on test set: 0.9833\n",
            "21\n",
            "[[-0.01512107 -0.1318478   0.11558672 ...  0.04066435 -0.19456444\n",
            "  -0.09133053]] [-2.30926516]\n",
            "Accuracy on test set: 0.9833\n",
            "22\n",
            "[[-0.0089663  -0.13440433  0.11962241 ...  0.03883514 -0.18629612\n",
            "  -0.0967934 ]] [-2.1820831]\n",
            "Accuracy on test set: 0.9850\n",
            "23\n",
            "[[-0.01646459 -0.12769395  0.1219685  ...  0.05782687 -0.18516695\n",
            "  -0.0939624 ]] [-2.4332289]\n",
            "Accuracy on test set: 0.9817\n",
            "24\n",
            "[[-0.01007882 -0.12935984  0.11982102 ...  0.06221754 -0.18507919\n",
            "  -0.09049065]] [-2.44398462]\n",
            "Accuracy on test set: 0.9817\n",
            "25\n",
            "[[-0.00954542 -0.12901276  0.11913318 ...  0.06136631 -0.18414789\n",
            "  -0.09066858]] [-2.42721575]\n",
            "Accuracy on test set: 0.9817\n",
            "26\n",
            "[[-0.0078957  -0.13384413  0.09844681 ...  0.06852139 -0.18201819\n",
            "  -0.08578227]] [-2.34432721]\n",
            "Accuracy on test set: 0.9817\n",
            "27\n",
            "[[-0.0070817  -0.13720157  0.09212052 ...  0.05144078 -0.18696302\n",
            "  -0.08667246]] [-2.34700034]\n",
            "Accuracy on test set: 0.9817\n",
            "28\n",
            "[[ 0.00055265 -0.13382887  0.09253839 ...  0.04772119 -0.18609256\n",
            "  -0.08247095]] [-2.375795]\n",
            "Accuracy on test set: 0.9817\n",
            "29\n",
            "[[-0.00351552 -0.14189391  0.06234042 ...  0.06219668 -0.1778896\n",
            "  -0.07690628]] [-2.35156633]\n",
            "Accuracy on test set: 0.9817\n",
            "30\n",
            "[[-0.0037755  -0.14493111  0.0591073  ...  0.06213702 -0.1816542\n",
            "  -0.07855752]] [-2.36040516]\n",
            "Accuracy on test set: 0.9817\n",
            "31\n",
            "[[-0.00144148 -0.14607939  0.05803334 ...  0.05977598 -0.18447453\n",
            "  -0.07806727]] [-2.32869119]\n",
            "Accuracy on test set: 0.9817\n",
            "32\n",
            "[[ 0.00929497 -0.10273047  0.02825263 ...  0.09748166 -0.18230418\n",
            "  -0.13914249]] [-2.77378005]\n",
            "Accuracy on test set: 0.9783\n",
            "33\n",
            "[[ 0.01107243 -0.10300626  0.02387832 ...  0.08826266 -0.18475229\n",
            "  -0.13402126]] [-2.70637277]\n",
            "Accuracy on test set: 0.9783\n",
            "34\n",
            "[[ 0.0082396  -0.10019443  0.02379861 ...  0.08616017 -0.18430051\n",
            "  -0.1352922 ]] [-2.64756482]\n",
            "Accuracy on test set: 0.9800\n",
            "35\n",
            "[[ 0.00798023 -0.10014146  0.02362653 ...  0.08540967 -0.18398311\n",
            "  -0.13586282]] [-2.60836263]\n",
            "Accuracy on test set: 0.9800\n",
            "36\n",
            "[[ 0.00129614 -0.10693783  0.02120005 ...  0.07899877 -0.18715237\n",
            "  -0.13195019]] [-2.60539224]\n",
            "Accuracy on test set: 0.9800\n",
            "37\n",
            "[[ 0.00948709 -0.09278419  0.01969437 ...  0.09195597 -0.1947172\n",
            "  -0.12217907]] [-2.57793888]\n",
            "Accuracy on test set: 0.9800\n",
            "38\n",
            "[[ 0.00750799 -0.09500168  0.01872475 ...  0.09129902 -0.19336271\n",
            "  -0.12090832]] [-2.62646473]\n",
            "Accuracy on test set: 0.9800\n",
            "39\n",
            "[[ 0.01376826 -0.09368196  0.02036886 ...  0.07261969 -0.18946851\n",
            "  -0.11359643]] [-2.68891367]\n",
            "Accuracy on test set: 0.9800\n",
            "40\n",
            "[[ 0.02162433 -0.09230304  0.01963259 ...  0.09130641 -0.18815933\n",
            "  -0.11736459]] [-2.66415128]\n",
            "Accuracy on test set: 0.9800\n",
            "41\n",
            "[[ 0.02372478 -0.09397535  0.01988578 ...  0.09219381 -0.1870245\n",
            "  -0.11486627]] [-2.67421282]\n",
            "Accuracy on test set: 0.9800\n",
            "42\n",
            "[[ 0.0234934  -0.09869094  0.02611202 ...  0.08759787 -0.18662364\n",
            "  -0.12103274]] [-2.56579493]\n",
            "Accuracy on test set: 0.9800\n",
            "43\n",
            "[[ 0.03310132 -0.10745158  0.01807418 ...  0.06761634 -0.22440081\n",
            "  -0.00921302]] [-3.06608176]\n",
            "Accuracy on test set: 0.9817\n",
            "44\n",
            "[[ 0.03310973 -0.11484809  0.02085508 ...  0.07312366 -0.23482742\n",
            "  -0.0066543 ]] [-3.33567921]\n",
            "Accuracy on test set: 0.9800\n",
            "45\n",
            "[[ 0.03186633 -0.12062163  0.01920538 ...  0.06490458 -0.23093718\n",
            "  -0.00613524]] [-3.37842647]\n",
            "Accuracy on test set: 0.9783\n",
            "46\n",
            "[[ 0.03683875 -0.12324146  0.02669902 ...  0.06339864 -0.24041194\n",
            "  -0.0188897 ]] [-3.40049641]\n",
            "Accuracy on test set: 0.9783\n",
            "47\n",
            "[[ 0.03505063 -0.12532865  0.02601427 ...  0.06036998 -0.2421383\n",
            "  -0.02355279]] [-3.40309837]\n",
            "Accuracy on test set: 0.9783\n",
            "48\n",
            "[[ 0.0251454  -0.126791    0.03245435 ...  0.06592925 -0.21725933\n",
            "  -0.0041597 ]] [-3.68234628]\n",
            "Accuracy on test set: 0.9767\n",
            "49\n",
            "[[ 0.03196152 -0.12241621  0.02511814 ...  0.07664542 -0.21018453\n",
            "  -0.00647731]] [-3.76335486]\n",
            "Accuracy on test set: 0.9800\n",
            "50\n",
            "[[ 0.02916784 -0.10576828  0.02823608 ...  0.05773257 -0.19480011\n",
            "  -0.00328444]] [-3.63440615]\n",
            "Accuracy on test set: 0.9800\n",
            "51\n",
            "[[ 0.02936271 -0.10612072  0.02740421 ...  0.05633268 -0.19532763\n",
            "  -0.00501415]] [-3.63584846]\n",
            "Accuracy on test set: 0.9800\n",
            "52\n",
            "[[ 0.02755977 -0.10772462  0.02730569 ...  0.05491694 -0.1950781\n",
            "  -0.00688247]] [-3.64472669]\n",
            "Accuracy on test set: 0.9800\n",
            "53\n",
            "[[ 0.02739824 -0.10636681  0.02560965 ...  0.05196274 -0.19374969\n",
            "  -0.00489245]] [-3.68683061]\n",
            "Accuracy on test set: 0.9800\n",
            "54\n",
            "[[ 0.03119962 -0.10565028  0.02267991 ...  0.05083261 -0.18972792\n",
            "  -0.00593872]] [-3.5976913]\n",
            "Accuracy on test set: 0.9800\n",
            "55\n",
            "[[ 0.03162647 -0.10627796  0.02276281 ...  0.05267465 -0.1898481\n",
            "  -0.00727328]] [-3.60137805]\n",
            "Accuracy on test set: 0.9800\n"
          ]
        }
      ]
    },
    {
      "cell_type": "code",
      "source": [
        "plt.plot(accuracies)"
      ],
      "metadata": {
        "colab": {
          "base_uri": "https://localhost:8080/",
          "height": 448
        },
        "id": "ml1aOj2uhDTJ",
        "outputId": "d85e4d43-1e35-417b-ffd3-55ca3fbe6635"
      },
      "execution_count": 49,
      "outputs": [
        {
          "output_type": "execute_result",
          "data": {
            "text/plain": [
              "[<matplotlib.lines.Line2D at 0x7fbe00109f90>]"
            ]
          },
          "metadata": {},
          "execution_count": 49
        },
        {
          "output_type": "display_data",
          "data": {
            "text/plain": [
              "<Figure size 640x480 with 1 Axes>"
            ],
            "image/png": "[encoded data removed]"
          },
          "metadata": {}
        }
      ]
    }
  ]
}